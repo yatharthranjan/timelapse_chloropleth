{
 "cells": [
  {
   "cell_type": "markdown",
   "metadata": {},
   "source": [
    "Dataset - https://www.kaggle.com/usgs/earthquake-database"
   ]
  },
  {
   "cell_type": "code",
   "execution_count": 1,
   "metadata": {},
   "outputs": [],
   "source": [
    "import pandas as pd"
   ]
  },
  {
   "cell_type": "code",
   "execution_count": 2,
   "metadata": {},
   "outputs": [],
   "source": [
    "df = pd.read_csv('earthquakes.csv')"
   ]
  },
  {
   "cell_type": "code",
   "execution_count": 3,
   "metadata": {},
   "outputs": [
    {
     "data": {
      "text/html": [
       "<div>\n",
       "<style scoped>\n",
       "    .dataframe tbody tr th:only-of-type {\n",
       "        vertical-align: middle;\n",
       "    }\n",
       "\n",
       "    .dataframe tbody tr th {\n",
       "        vertical-align: top;\n",
       "    }\n",
       "\n",
       "    .dataframe thead th {\n",
       "        text-align: right;\n",
       "    }\n",
       "</style>\n",
       "<table border=\"1\" class=\"dataframe\">\n",
       "  <thead>\n",
       "    <tr style=\"text-align: right;\">\n",
       "      <th></th>\n",
       "      <th>Date</th>\n",
       "      <th>Time</th>\n",
       "      <th>Latitude</th>\n",
       "      <th>Longitude</th>\n",
       "      <th>Type</th>\n",
       "      <th>Depth</th>\n",
       "      <th>Depth Error</th>\n",
       "      <th>Depth Seismic Stations</th>\n",
       "      <th>Magnitude</th>\n",
       "      <th>Magnitude Type</th>\n",
       "      <th>...</th>\n",
       "      <th>Magnitude Seismic Stations</th>\n",
       "      <th>Azimuthal Gap</th>\n",
       "      <th>Horizontal Distance</th>\n",
       "      <th>Horizontal Error</th>\n",
       "      <th>Root Mean Square</th>\n",
       "      <th>ID</th>\n",
       "      <th>Source</th>\n",
       "      <th>Location Source</th>\n",
       "      <th>Magnitude Source</th>\n",
       "      <th>Status</th>\n",
       "    </tr>\n",
       "  </thead>\n",
       "  <tbody>\n",
       "    <tr>\n",
       "      <th>0</th>\n",
       "      <td>01/02/1965</td>\n",
       "      <td>13:44:18</td>\n",
       "      <td>19.246</td>\n",
       "      <td>145.616</td>\n",
       "      <td>Earthquake</td>\n",
       "      <td>131.6</td>\n",
       "      <td>NaN</td>\n",
       "      <td>NaN</td>\n",
       "      <td>6.0</td>\n",
       "      <td>MW</td>\n",
       "      <td>...</td>\n",
       "      <td>NaN</td>\n",
       "      <td>NaN</td>\n",
       "      <td>NaN</td>\n",
       "      <td>NaN</td>\n",
       "      <td>NaN</td>\n",
       "      <td>ISCGEM860706</td>\n",
       "      <td>ISCGEM</td>\n",
       "      <td>ISCGEM</td>\n",
       "      <td>ISCGEM</td>\n",
       "      <td>Automatic</td>\n",
       "    </tr>\n",
       "    <tr>\n",
       "      <th>1</th>\n",
       "      <td>01/04/1965</td>\n",
       "      <td>11:29:49</td>\n",
       "      <td>1.863</td>\n",
       "      <td>127.352</td>\n",
       "      <td>Earthquake</td>\n",
       "      <td>80.0</td>\n",
       "      <td>NaN</td>\n",
       "      <td>NaN</td>\n",
       "      <td>5.8</td>\n",
       "      <td>MW</td>\n",
       "      <td>...</td>\n",
       "      <td>NaN</td>\n",
       "      <td>NaN</td>\n",
       "      <td>NaN</td>\n",
       "      <td>NaN</td>\n",
       "      <td>NaN</td>\n",
       "      <td>ISCGEM860737</td>\n",
       "      <td>ISCGEM</td>\n",
       "      <td>ISCGEM</td>\n",
       "      <td>ISCGEM</td>\n",
       "      <td>Automatic</td>\n",
       "    </tr>\n",
       "    <tr>\n",
       "      <th>2</th>\n",
       "      <td>01/05/1965</td>\n",
       "      <td>18:05:58</td>\n",
       "      <td>-20.579</td>\n",
       "      <td>-173.972</td>\n",
       "      <td>Earthquake</td>\n",
       "      <td>20.0</td>\n",
       "      <td>NaN</td>\n",
       "      <td>NaN</td>\n",
       "      <td>6.2</td>\n",
       "      <td>MW</td>\n",
       "      <td>...</td>\n",
       "      <td>NaN</td>\n",
       "      <td>NaN</td>\n",
       "      <td>NaN</td>\n",
       "      <td>NaN</td>\n",
       "      <td>NaN</td>\n",
       "      <td>ISCGEM860762</td>\n",
       "      <td>ISCGEM</td>\n",
       "      <td>ISCGEM</td>\n",
       "      <td>ISCGEM</td>\n",
       "      <td>Automatic</td>\n",
       "    </tr>\n",
       "    <tr>\n",
       "      <th>3</th>\n",
       "      <td>01/08/1965</td>\n",
       "      <td>18:49:43</td>\n",
       "      <td>-59.076</td>\n",
       "      <td>-23.557</td>\n",
       "      <td>Earthquake</td>\n",
       "      <td>15.0</td>\n",
       "      <td>NaN</td>\n",
       "      <td>NaN</td>\n",
       "      <td>5.8</td>\n",
       "      <td>MW</td>\n",
       "      <td>...</td>\n",
       "      <td>NaN</td>\n",
       "      <td>NaN</td>\n",
       "      <td>NaN</td>\n",
       "      <td>NaN</td>\n",
       "      <td>NaN</td>\n",
       "      <td>ISCGEM860856</td>\n",
       "      <td>ISCGEM</td>\n",
       "      <td>ISCGEM</td>\n",
       "      <td>ISCGEM</td>\n",
       "      <td>Automatic</td>\n",
       "    </tr>\n",
       "    <tr>\n",
       "      <th>4</th>\n",
       "      <td>01/09/1965</td>\n",
       "      <td>13:32:50</td>\n",
       "      <td>11.938</td>\n",
       "      <td>126.427</td>\n",
       "      <td>Earthquake</td>\n",
       "      <td>15.0</td>\n",
       "      <td>NaN</td>\n",
       "      <td>NaN</td>\n",
       "      <td>5.8</td>\n",
       "      <td>MW</td>\n",
       "      <td>...</td>\n",
       "      <td>NaN</td>\n",
       "      <td>NaN</td>\n",
       "      <td>NaN</td>\n",
       "      <td>NaN</td>\n",
       "      <td>NaN</td>\n",
       "      <td>ISCGEM860890</td>\n",
       "      <td>ISCGEM</td>\n",
       "      <td>ISCGEM</td>\n",
       "      <td>ISCGEM</td>\n",
       "      <td>Automatic</td>\n",
       "    </tr>\n",
       "  </tbody>\n",
       "</table>\n",
       "<p>5 rows × 21 columns</p>\n",
       "</div>"
      ],
      "text/plain": [
       "         Date      Time  Latitude  Longitude        Type  Depth  Depth Error  \\\n",
       "0  01/02/1965  13:44:18    19.246    145.616  Earthquake  131.6          NaN   \n",
       "1  01/04/1965  11:29:49     1.863    127.352  Earthquake   80.0          NaN   \n",
       "2  01/05/1965  18:05:58   -20.579   -173.972  Earthquake   20.0          NaN   \n",
       "3  01/08/1965  18:49:43   -59.076    -23.557  Earthquake   15.0          NaN   \n",
       "4  01/09/1965  13:32:50    11.938    126.427  Earthquake   15.0          NaN   \n",
       "\n",
       "   Depth Seismic Stations  Magnitude Magnitude Type  ...  \\\n",
       "0                     NaN        6.0             MW  ...   \n",
       "1                     NaN        5.8             MW  ...   \n",
       "2                     NaN        6.2             MW  ...   \n",
       "3                     NaN        5.8             MW  ...   \n",
       "4                     NaN        5.8             MW  ...   \n",
       "\n",
       "   Magnitude Seismic Stations  Azimuthal Gap  Horizontal Distance  \\\n",
       "0                         NaN            NaN                  NaN   \n",
       "1                         NaN            NaN                  NaN   \n",
       "2                         NaN            NaN                  NaN   \n",
       "3                         NaN            NaN                  NaN   \n",
       "4                         NaN            NaN                  NaN   \n",
       "\n",
       "   Horizontal Error  Root Mean Square            ID  Source Location Source  \\\n",
       "0               NaN               NaN  ISCGEM860706  ISCGEM          ISCGEM   \n",
       "1               NaN               NaN  ISCGEM860737  ISCGEM          ISCGEM   \n",
       "2               NaN               NaN  ISCGEM860762  ISCGEM          ISCGEM   \n",
       "3               NaN               NaN  ISCGEM860856  ISCGEM          ISCGEM   \n",
       "4               NaN               NaN  ISCGEM860890  ISCGEM          ISCGEM   \n",
       "\n",
       "  Magnitude Source     Status  \n",
       "0           ISCGEM  Automatic  \n",
       "1           ISCGEM  Automatic  \n",
       "2           ISCGEM  Automatic  \n",
       "3           ISCGEM  Automatic  \n",
       "4           ISCGEM  Automatic  \n",
       "\n",
       "[5 rows x 21 columns]"
      ]
     },
     "execution_count": 3,
     "metadata": {},
     "output_type": "execute_result"
    }
   ],
   "source": [
    "df.head()"
   ]
  },
  {
   "cell_type": "code",
   "execution_count": 4,
   "metadata": {},
   "outputs": [
    {
     "name": "stdout",
     "output_type": "stream",
     "text": [
      "<class 'pandas.core.frame.DataFrame'>\n",
      "RangeIndex: 23412 entries, 0 to 23411\n",
      "Data columns (total 21 columns):\n",
      " #   Column                      Non-Null Count  Dtype  \n",
      "---  ------                      --------------  -----  \n",
      " 0   Date                        23412 non-null  object \n",
      " 1   Time                        23412 non-null  object \n",
      " 2   Latitude                    23412 non-null  float64\n",
      " 3   Longitude                   23412 non-null  float64\n",
      " 4   Type                        23412 non-null  object \n",
      " 5   Depth                       23412 non-null  float64\n",
      " 6   Depth Error                 4461 non-null   float64\n",
      " 7   Depth Seismic Stations      7097 non-null   float64\n",
      " 8   Magnitude                   23412 non-null  float64\n",
      " 9   Magnitude Type              23409 non-null  object \n",
      " 10  Magnitude Error             327 non-null    float64\n",
      " 11  Magnitude Seismic Stations  2564 non-null   float64\n",
      " 12  Azimuthal Gap               7299 non-null   float64\n",
      " 13  Horizontal Distance         1604 non-null   float64\n",
      " 14  Horizontal Error            1156 non-null   float64\n",
      " 15  Root Mean Square            17352 non-null  float64\n",
      " 16  ID                          23412 non-null  object \n",
      " 17  Source                      23412 non-null  object \n",
      " 18  Location Source             23412 non-null  object \n",
      " 19  Magnitude Source            23412 non-null  object \n",
      " 20  Status                      23412 non-null  object \n",
      "dtypes: float64(12), object(9)\n",
      "memory usage: 3.8+ MB\n"
     ]
    }
   ],
   "source": [
    "df.info()"
   ]
  },
  {
   "cell_type": "code",
   "execution_count": 5,
   "metadata": {},
   "outputs": [],
   "source": [
    "df.loc[:, 'year'] = pd.to_datetime(df.loc[:, 'Date']).apply(lambda x: x.year)"
   ]
  },
  {
   "cell_type": "code",
   "execution_count": 6,
   "metadata": {},
   "outputs": [
    {
     "data": {
      "text/html": [
       "<div>\n",
       "<style scoped>\n",
       "    .dataframe tbody tr th:only-of-type {\n",
       "        vertical-align: middle;\n",
       "    }\n",
       "\n",
       "    .dataframe tbody tr th {\n",
       "        vertical-align: top;\n",
       "    }\n",
       "\n",
       "    .dataframe thead th {\n",
       "        text-align: right;\n",
       "    }\n",
       "</style>\n",
       "<table border=\"1\" class=\"dataframe\">\n",
       "  <thead>\n",
       "    <tr style=\"text-align: right;\">\n",
       "      <th></th>\n",
       "      <th>Date</th>\n",
       "      <th>Time</th>\n",
       "      <th>Latitude</th>\n",
       "      <th>Longitude</th>\n",
       "      <th>Type</th>\n",
       "      <th>Depth</th>\n",
       "      <th>Depth Error</th>\n",
       "      <th>Depth Seismic Stations</th>\n",
       "      <th>Magnitude</th>\n",
       "      <th>Magnitude Type</th>\n",
       "      <th>...</th>\n",
       "      <th>Azimuthal Gap</th>\n",
       "      <th>Horizontal Distance</th>\n",
       "      <th>Horizontal Error</th>\n",
       "      <th>Root Mean Square</th>\n",
       "      <th>ID</th>\n",
       "      <th>Source</th>\n",
       "      <th>Location Source</th>\n",
       "      <th>Magnitude Source</th>\n",
       "      <th>Status</th>\n",
       "      <th>year</th>\n",
       "    </tr>\n",
       "  </thead>\n",
       "  <tbody>\n",
       "    <tr>\n",
       "      <th>0</th>\n",
       "      <td>01/02/1965</td>\n",
       "      <td>13:44:18</td>\n",
       "      <td>19.246</td>\n",
       "      <td>145.616</td>\n",
       "      <td>Earthquake</td>\n",
       "      <td>131.6</td>\n",
       "      <td>NaN</td>\n",
       "      <td>NaN</td>\n",
       "      <td>6.0</td>\n",
       "      <td>MW</td>\n",
       "      <td>...</td>\n",
       "      <td>NaN</td>\n",
       "      <td>NaN</td>\n",
       "      <td>NaN</td>\n",
       "      <td>NaN</td>\n",
       "      <td>ISCGEM860706</td>\n",
       "      <td>ISCGEM</td>\n",
       "      <td>ISCGEM</td>\n",
       "      <td>ISCGEM</td>\n",
       "      <td>Automatic</td>\n",
       "      <td>1965</td>\n",
       "    </tr>\n",
       "    <tr>\n",
       "      <th>1</th>\n",
       "      <td>01/04/1965</td>\n",
       "      <td>11:29:49</td>\n",
       "      <td>1.863</td>\n",
       "      <td>127.352</td>\n",
       "      <td>Earthquake</td>\n",
       "      <td>80.0</td>\n",
       "      <td>NaN</td>\n",
       "      <td>NaN</td>\n",
       "      <td>5.8</td>\n",
       "      <td>MW</td>\n",
       "      <td>...</td>\n",
       "      <td>NaN</td>\n",
       "      <td>NaN</td>\n",
       "      <td>NaN</td>\n",
       "      <td>NaN</td>\n",
       "      <td>ISCGEM860737</td>\n",
       "      <td>ISCGEM</td>\n",
       "      <td>ISCGEM</td>\n",
       "      <td>ISCGEM</td>\n",
       "      <td>Automatic</td>\n",
       "      <td>1965</td>\n",
       "    </tr>\n",
       "    <tr>\n",
       "      <th>2</th>\n",
       "      <td>01/05/1965</td>\n",
       "      <td>18:05:58</td>\n",
       "      <td>-20.579</td>\n",
       "      <td>-173.972</td>\n",
       "      <td>Earthquake</td>\n",
       "      <td>20.0</td>\n",
       "      <td>NaN</td>\n",
       "      <td>NaN</td>\n",
       "      <td>6.2</td>\n",
       "      <td>MW</td>\n",
       "      <td>...</td>\n",
       "      <td>NaN</td>\n",
       "      <td>NaN</td>\n",
       "      <td>NaN</td>\n",
       "      <td>NaN</td>\n",
       "      <td>ISCGEM860762</td>\n",
       "      <td>ISCGEM</td>\n",
       "      <td>ISCGEM</td>\n",
       "      <td>ISCGEM</td>\n",
       "      <td>Automatic</td>\n",
       "      <td>1965</td>\n",
       "    </tr>\n",
       "    <tr>\n",
       "      <th>3</th>\n",
       "      <td>01/08/1965</td>\n",
       "      <td>18:49:43</td>\n",
       "      <td>-59.076</td>\n",
       "      <td>-23.557</td>\n",
       "      <td>Earthquake</td>\n",
       "      <td>15.0</td>\n",
       "      <td>NaN</td>\n",
       "      <td>NaN</td>\n",
       "      <td>5.8</td>\n",
       "      <td>MW</td>\n",
       "      <td>...</td>\n",
       "      <td>NaN</td>\n",
       "      <td>NaN</td>\n",
       "      <td>NaN</td>\n",
       "      <td>NaN</td>\n",
       "      <td>ISCGEM860856</td>\n",
       "      <td>ISCGEM</td>\n",
       "      <td>ISCGEM</td>\n",
       "      <td>ISCGEM</td>\n",
       "      <td>Automatic</td>\n",
       "      <td>1965</td>\n",
       "    </tr>\n",
       "    <tr>\n",
       "      <th>4</th>\n",
       "      <td>01/09/1965</td>\n",
       "      <td>13:32:50</td>\n",
       "      <td>11.938</td>\n",
       "      <td>126.427</td>\n",
       "      <td>Earthquake</td>\n",
       "      <td>15.0</td>\n",
       "      <td>NaN</td>\n",
       "      <td>NaN</td>\n",
       "      <td>5.8</td>\n",
       "      <td>MW</td>\n",
       "      <td>...</td>\n",
       "      <td>NaN</td>\n",
       "      <td>NaN</td>\n",
       "      <td>NaN</td>\n",
       "      <td>NaN</td>\n",
       "      <td>ISCGEM860890</td>\n",
       "      <td>ISCGEM</td>\n",
       "      <td>ISCGEM</td>\n",
       "      <td>ISCGEM</td>\n",
       "      <td>Automatic</td>\n",
       "      <td>1965</td>\n",
       "    </tr>\n",
       "  </tbody>\n",
       "</table>\n",
       "<p>5 rows × 22 columns</p>\n",
       "</div>"
      ],
      "text/plain": [
       "         Date      Time  Latitude  Longitude        Type  Depth  Depth Error  \\\n",
       "0  01/02/1965  13:44:18    19.246    145.616  Earthquake  131.6          NaN   \n",
       "1  01/04/1965  11:29:49     1.863    127.352  Earthquake   80.0          NaN   \n",
       "2  01/05/1965  18:05:58   -20.579   -173.972  Earthquake   20.0          NaN   \n",
       "3  01/08/1965  18:49:43   -59.076    -23.557  Earthquake   15.0          NaN   \n",
       "4  01/09/1965  13:32:50    11.938    126.427  Earthquake   15.0          NaN   \n",
       "\n",
       "   Depth Seismic Stations  Magnitude Magnitude Type  ...  Azimuthal Gap  \\\n",
       "0                     NaN        6.0             MW  ...            NaN   \n",
       "1                     NaN        5.8             MW  ...            NaN   \n",
       "2                     NaN        6.2             MW  ...            NaN   \n",
       "3                     NaN        5.8             MW  ...            NaN   \n",
       "4                     NaN        5.8             MW  ...            NaN   \n",
       "\n",
       "   Horizontal Distance  Horizontal Error  Root Mean Square            ID  \\\n",
       "0                  NaN               NaN               NaN  ISCGEM860706   \n",
       "1                  NaN               NaN               NaN  ISCGEM860737   \n",
       "2                  NaN               NaN               NaN  ISCGEM860762   \n",
       "3                  NaN               NaN               NaN  ISCGEM860856   \n",
       "4                  NaN               NaN               NaN  ISCGEM860890   \n",
       "\n",
       "   Source Location Source Magnitude Source     Status  year  \n",
       "0  ISCGEM          ISCGEM           ISCGEM  Automatic  1965  \n",
       "1  ISCGEM          ISCGEM           ISCGEM  Automatic  1965  \n",
       "2  ISCGEM          ISCGEM           ISCGEM  Automatic  1965  \n",
       "3  ISCGEM          ISCGEM           ISCGEM  Automatic  1965  \n",
       "4  ISCGEM          ISCGEM           ISCGEM  Automatic  1965  \n",
       "\n",
       "[5 rows x 22 columns]"
      ]
     },
     "execution_count": 6,
     "metadata": {},
     "output_type": "execute_result"
    }
   ],
   "source": [
    "df.head()"
   ]
  },
  {
   "cell_type": "code",
   "execution_count": 7,
   "metadata": {},
   "outputs": [],
   "source": [
    "import plotly.graph_objs as go #importing graphical objects\n",
    "from plotly.offline import download_plotlyjs, init_notebook_mode, plot, iplot"
   ]
  },
  {
   "cell_type": "code",
   "execution_count": 49,
   "metadata": {},
   "outputs": [],
   "source": [
    "def plot_scatter_geo(df_year, year, fig, plot=False):\n",
    "    data = go.Scattergeo(\n",
    "            lon = df_year['Longitude'],\n",
    "            lat = df_year['Latitude'],\n",
    "            text = df_year['Type'],\n",
    "            mode = 'markers',\n",
    "            marker = dict(symbol = 'star',size=5,colorscale = 'Reds'\n",
    "                          ),\n",
    "            marker_color = df_year['Magnitude'],\n",
    "            )\n",
    "    layout = dict(title = f'Earthquake location around the world in year {year}',\n",
    "                  geo_scope = 'world'\n",
    "                 )\n",
    "    if fig is None:\n",
    "        choromap = go.Figure(data = [data],layout = layout)\n",
    "    else:\n",
    "        choromap = fig\n",
    "        choromap.update(data= [data], layout = layout)\n",
    "    if plot:\n",
    "        iplot(choromap)\n",
    "    return choromap"
   ]
  },
  {
   "cell_type": "code",
   "execution_count": 50,
   "metadata": {},
   "outputs": [
    {
     "data": {
      "application/vnd.plotly.v1+json": {
       "config": {
        "plotlyServerURL": "https://plot.ly"
       },
       "data": [
        {
         "lat": [
          19.246,
          1.8630000000000002,
          -20.579,
          -59.076,
          11.937999999999999,
          -13.405,
          27.357,
          -13.309000000000001,
          -56.452,
          -24.563000000000002,
          -6.807,
          -2.608,
          54.636,
          -18.697,
          37.523,
          -51.84,
          51.251000000000005,
          51.638999999999996,
          52.528,
          51.626000000000005,
          51.037,
          51.73,
          51.775,
          52.611000000000004,
          51.831,
          51.948,
          51.443000000000005,
          52.773,
          51.772,
          52.975,
          52.99,
          51.536,
          13.245,
          51.812,
          51.762,
          52.438,
          51.946000000000005,
          51.738,
          51.486999999999995,
          53.008,
          52.184,
          52.076,
          51.744,
          52.056999999999995,
          53.191,
          51.446999999999996,
          51.258,
          52.031000000000006,
          51.294,
          55.223,
          -18.718,
          52.815,
          52.188,
          51.00899999999999,
          3.0260000000000002,
          38.908,
          51.693999999999996,
          21.526999999999997,
          25.011,
          -7.251,
          51.415,
          -15.343,
          -25.633000000000003,
          -5.461,
          51.88399999999999,
          6.746,
          28.133000000000003,
          -5.377000000000001,
          21.104,
          -5.371,
          21.122,
          52.20399999999999,
          15.404000000000002,
          38.399,
          -27.145,
          -5.513999999999999,
          53.04600000000001,
          -5.487,
          50.928000000000004,
          52.39,
          -27.026999999999997,
          52.416000000000004,
          -18.425,
          20.13,
          -29.998,
          39.196999999999996,
          53.292,
          36.405,
          22.635,
          40.696999999999996,
          52.785,
          -20.035999999999998,
          -55.857,
          -1.8869999999999998,
          -1.547,
          -15.262,
          -31.974,
          -15.382,
          8.418,
          55.26,
          -32.522,
          40.687,
          -20.502,
          50.282,
          38.365,
          9.986,
          15.8,
          51.865,
          -27.088,
          37.505,
          44.812,
          36.083,
          -0.46299999999999997,
          52.192,
          -32.707,
          35.047,
          -20.455,
          -17.857,
          -13.409,
          -42.692,
          -26.168000000000003,
          30.316999999999997,
          25.08,
          64.572,
          41.46,
          -59.687,
          -59.586000000000006,
          34.848,
          11.450999999999999,
          24.409000000000002,
          -1.733,
          54.157,
          21.045,
          -6.822,
          35.626,
          1.3330000000000002,
          47.288000000000004,
          -5.547999999999999,
          60.35,
          28.927,
          -32.537,
          13.683,
          -24.281,
          41.801,
          -3.523,
          -6.1739999999999995,
          -4.131,
          5.268,
          22.336,
          -8.937999999999999,
          -6.575,
          -4.819,
          -14.921,
          1.3090000000000002,
          -21.125999999999998,
          52.148999999999994,
          13.174000000000001,
          51.227,
          -55.957,
          -7.566,
          -23.54,
          15.674000000000001,
          -1.649,
          51.88399999999999,
          44.608000000000004,
          44.578,
          44.133,
          44.111999999999995,
          44.299,
          44.167,
          43.775,
          43.803999999999995,
          43.885,
          -20.38,
          41.705,
          37.718,
          -39.902,
          -38.08,
          -21.025,
          32.052,
          44.505,
          42.973,
          28.134,
          7.175,
          56.543,
          7.034,
          -54.437,
          60.281000000000006,
          23.764,
          -5.01,
          -1.734,
          51.813,
          -63.159,
          52.99,
          22.338,
          -22.566999999999997,
          38.384,
          46.591,
          -4.408,
          -6.819,
          -28.428,
          7.74,
          -9.72,
          7.56,
          53.318000000000005,
          1.8130000000000002,
          41.278,
          51.472,
          -2.335,
          51.05,
          50.799,
          51.076,
          6.789,
          -32.441,
          -56.04600000000001,
          -7.526,
          -5.212999999999999,
          -15.449000000000002,
          -15.67,
          -15.685,
          -15.741,
          -15.860999999999999,
          -15.817,
          -5.36,
          -15.931,
          -15.97,
          -15.995,
          -15.870999999999999,
          -16.198,
          -16.801,
          -6.38,
          -15.819,
          -11.385,
          -0.53,
          4.872,
          -15.185,
          -15.945,
          -5.7139999999999995,
          -18.954,
          -22.886999999999997,
          -5.921,
          40.459,
          16.081,
          15.837,
          44.453,
          -16.930999999999997,
          -6.428,
          -34.596,
          51.867,
          46.515,
          58.09,
          57.513000000000005,
          6.47,
          -5.349,
          -6.209,
          -6.416,
          55.338,
          -36.448,
          8.382,
          7.156000000000001,
          -1.443,
          36.269,
          36.245,
          36.27,
          8.187999999999999,
          28.951999999999998,
          20.682,
          -5.391,
          36.395,
          13.092,
          39.626,
          -54.757,
          51.751999999999995,
          -28.278000000000002,
          59.28,
          49.937,
          -19.921,
          -60.468,
          49.426,
          -42.968999999999994,
          12.347000000000001,
          -59.225,
          56.19,
          3.113,
          -7.981,
          -1.28,
          52.36600000000001,
          53.901,
          4.203,
          49.646,
          44.12,
          -1.2570000000000001,
          -9.031,
          -22.456999999999997,
          -3.1439999999999997,
          -22.125999999999998,
          30.628,
          43.745,
          -29.414,
          36.514,
          -0.22399999999999998,
          6.553,
          30.886999999999997,
          25.449,
          -7.058,
          -18.855,
          53.909,
          -7.225,
          -6.193,
          51.93600000000001,
          51.361000000000004,
          2.983,
          51.42,
          -8.666,
          33.010999999999996,
          -9.611,
          -45.847,
          36.096,
          -4.841,
          51.101000000000006,
          52.611999999999995,
          18.919,
          -6.457999999999999,
          -37.199,
          17.135,
          -18.108,
          -11.292,
          44.688,
          44.757,
          -56.722,
          7.65,
          52.293,
          58.335,
          60.481,
          -18.096,
          -5.2010000000000005,
          27.863000000000003,
          54.21,
          -16.673
         ],
         "lon": [
          145.616,
          127.352,
          -173.972,
          -23.557,
          126.427,
          166.62900000000002,
          87.867,
          166.21200000000002,
          -27.043000000000003,
          178.487,
          108.988,
          125.95200000000001,
          161.703,
          -177.864,
          73.251,
          139.741,
          178.715,
          175.055,
          172.007,
          175.74599999999998,
          177.84799999999998,
          173.975,
          173.058,
          172.588,
          174.368,
          173.96900000000002,
          179.605,
          171.97400000000002,
          174.696,
          171.09099999999998,
          170.87400000000002,
          175.045,
          -44.922,
          174.206,
          174.84099999999998,
          174.321,
          173.84,
          174.56599999999997,
          176.558,
          -162.00799999999998,
          175.505,
          172.918,
          175.213,
          174.11599999999999,
          -161.859,
          176.46900000000002,
          173.393,
          175.41099999999997,
          179.092,
          165.426,
          169.386,
          171.90400000000002,
          172.752,
          179.325,
          125.95100000000001,
          142.095,
          176.446,
          143.08100000000002,
          94.186,
          126.715,
          179.358,
          -172.889,
          -70.679,
          151.98,
          173.072,
          -72.971,
          -112.208,
          152.115,
          121.21799999999999,
          152.055,
          121.148,
          173.91099999999997,
          -92.62299999999999,
          28.226,
          -177.262,
          151.819,
          171.308,
          146.993,
          179.511,
          174.937,
          -63.214,
          174.239,
          -132.923,
          121.461,
          -177.968,
          23.86,
          -162.33100000000002,
          70.72399999999999,
          121.117,
          143.032,
          171.821,
          -175.89,
          -26.758000000000003,
          119.836,
          126.62299999999999,
          -173.25400000000002,
          -71.57300000000001,
          -173.19400000000002,
          126.553,
          161.904,
          -71.233,
          142.915,
          -173.701,
          177.959,
          22.405,
          125.896,
          -98.06700000000001,
          175.172,
          -176.046,
          22.066999999999997,
          150.871,
          139.968,
          120.039,
          173.437,
          -178.207,
          24.318,
          -173.62099999999998,
          -178.646,
          170.37599999999998,
          174.205,
          178.628,
          138.702,
          122.897,
          -160.375,
          -127.416,
          -26.454,
          -26.372,
          138.332,
          140.231,
          142.776,
          126.568,
          -162.59,
          120.79799999999999,
          129.504,
          23.425,
          -85.075,
          -122.406,
          110.33200000000001,
          -146.17600000000002,
          128.769,
          -70.569,
          -89.07,
          -67.92699999999999,
          79.414,
          137.924,
          130.358,
          134.946,
          125.46700000000001,
          121.24799999999999,
          159.083,
          105.311,
          152.436,
          167.34,
          126.23899999999999,
          -178.537,
          175.11900000000003,
          124.604,
          178.882,
          -27.875,
          128.578,
          -179.917,
          -46.711999999999996,
          126.552,
          174.015,
          149.02200000000002,
          148.69899999999998,
          149.255,
          149.539,
          149.032,
          149.87,
          149.44799999999998,
          149.351,
          149.339,
          -68.944,
          143.727,
          29.378,
          45.55,
          177.442,
          173.574,
          87.78399999999999,
          149.218,
          -126.652,
          55.891000000000005,
          123.613,
          -152.94799999999998,
          126.25,
          4.965,
          -141.418,
          121.56,
          153.06,
          126.53,
          176.53,
          -163.707,
          -167.739,
          101.49600000000001,
          172.93900000000002,
          22.545,
          152.467,
          155.062,
          105.505,
          -68.25,
          123.811,
          159.888,
          124.24700000000001,
          170.365,
          99.27600000000001,
          146.68200000000002,
          175.894,
          101.76700000000001,
          -171.28900000000002,
          -171.607,
          -171.46599999999998,
          -72.907,
          -178.803,
          157.922,
          -81.179,
          151.701,
          166.98,
          167.21599999999998,
          167.097,
          167.26,
          167.092,
          167.399,
          152.116,
          167.392,
          167.43900000000002,
          166.96,
          166.96,
          167.607,
          167.602,
          148.543,
          166.794,
          166.332,
          -19.951,
          95.836,
          166.67,
          166.99900000000002,
          128.493,
          -68.82,
          -176.19400000000002,
          103.993,
          26.206,
          -95.867,
          -96.235,
          149.06,
          167.454,
          104.667,
          179.922,
          175.451,
          153.387,
          -152.525,
          -152.263,
          -84.40799999999999,
          152.955,
          151.651,
          70.726,
          165.731,
          -97.6,
          126.895,
          126.522,
          -77.476,
          141.533,
          141.53,
          141.361,
          126.874,
          128.227,
          99.32600000000001,
          151.631,
          141.46,
          145.167,
          143.357,
          -38.244,
          175.5,
          -177.99900000000002,
          -144.06,
          178.166,
          174.48,
          -24.551,
          156.417,
          -75.225,
          114.485,
          -25.090999999999998,
          -153.615,
          128.558,
          156.287,
          127.725,
          174.25400000000002,
          -165.403,
          125.787,
          156.116,
          145.389,
          127.735,
          -71.139,
          -113.788,
          143.789,
          -113.928,
          140.23,
          87.84299999999999,
          -68.166,
          141.22899999999998,
          -18.645,
          126.90299999999999,
          -41.479,
          125.319,
          129.347,
          -177.72099999999998,
          160.579,
          129.12,
          130.40200000000002,
          -176.092,
          -179.71599999999998,
          124.831,
          -179.7,
          111.103,
          141.079,
          159.797,
          -72.958,
          27.318,
          103.103,
          -170.604,
          173.14,
          -107.176,
          146.298,
          177.558,
          -100.126,
          -178.062,
          166.143,
          149.939,
          150.195,
          -141.439,
          -81.913,
          160.356,
          -153.303,
          -140.766,
          -178.979,
          151.583,
          141.99200000000002,
          -164.476,
          -71.111
         ],
         "marker": {
          "color": [
           6,
           5.8,
           6.2,
           5.8,
           5.8,
           6.7,
           5.9,
           6,
           6,
           5.8,
           5.9,
           8.2,
           5.5,
           5.6,
           6,
           6.1,
           8.7,
           6,
           5.7,
           5.8,
           5.9,
           5.9,
           5.7,
           5.7,
           5.7,
           5.6,
           7.3,
           6.5,
           5.6,
           6.4,
           5.8,
           5.8,
           5.8,
           5.7,
           5.7,
           6.3,
           5.7,
           6,
           5.6,
           6.4,
           6.2,
           5.6,
           5.7,
           5.7,
           6.3,
           5.8,
           5.7,
           5.7,
           5.8,
           5.9,
           5.6,
           6,
           5.8,
           5.8,
           5.9,
           5.7,
           5.7,
           5.6,
           5.6,
           5.9,
           5.8,
           5.8,
           7,
           6.2,
           6.2,
           5.6,
           6,
           5.9,
           5.7,
           5.5,
           5.6,
           5.7,
           5.6,
           5.8,
           5.6,
           6.7,
           6.3,
           5.7,
           5.5,
           5.6,
           5.8,
           5.6,
           5.6,
           5.8,
           6,
           6.1,
           5.7,
           7.4,
           5.8,
           6.4,
           6,
           6.3,
           5.7,
           6,
           6.3,
           6.5,
           6.2,
           6.2,
           5.7,
           5.8,
           7.4,
           6.4,
           5.9,
           7.6,
           6.8,
           5.9,
           5.8,
           5.7,
           5.6,
           6.1,
           5.7,
           5.7,
           6.2,
           6.1,
           6,
           6.2,
           5.7,
           6.5,
           6.3,
           5.9,
           5.7,
           5.6,
           5.6,
           6,
           5.9,
           6.1,
           6.1,
           6,
           5.8,
           6,
           5.7,
           5.6,
           6.1,
           6,
           6.1,
           5.8,
           6.7,
           6,
           5.6,
           5.8,
           5.8,
           5.9,
           5.7,
           6.2,
           5.7,
           6.1,
           5.8,
           5.9,
           6.7,
           5.6,
           5.6,
           5.5,
           7.7,
           5.7,
           6.1,
           6,
           5.9,
           5.8,
           6,
           5.9,
           5.7,
           5.9,
           5.6,
           5.6,
           7,
           7.2,
           5.5,
           5.6,
           5.7,
           5.6,
           5.7,
           5.7,
           5.5,
           5.9,
           6.1,
           5.9,
           5.6,
           5.9,
           6.2,
           5.9,
           5.6,
           5.5,
           5.9,
           6.3,
           6.5,
           5.8,
           5.7,
           6.5,
           5.9,
           6,
           5.8,
           5.7,
           6.1,
           7.8,
           5.9,
           5.8,
           6.3,
           5.6,
           6.3,
           5.7,
           5.7,
           6,
           5.9,
           5.7,
           5.5,
           5.5,
           5.6,
           5.7,
           5.6,
           6.8,
           5.7,
           5.6,
           5.6,
           5.9,
           7.3,
           5.7,
           6.5,
           7.2,
           5.8,
           6.9,
           6,
           7.6,
           6.9,
           6.8,
           5.9,
           5.8,
           6.1,
           7.4,
           7.2,
           6.2,
           6,
           6,
           5.7,
           6.2,
           6.1,
           5.8,
           6.2,
           6.7,
           6.7,
           6.1,
           5.6,
           6,
           7.4,
           5.8,
           5.7,
           5.8,
           5.7,
           5.8,
           5.5,
           5.9,
           7,
           5.7,
           6.2,
           6.2,
           6.1,
           6.3,
           5.9,
           6.1,
           5.8,
           6,
           6.5,
           5.8,
           5.9,
           6.8,
           6,
           6.7,
           5.9,
           5.9,
           6.3,
           5.6,
           5.7,
           5.8,
           5.6,
           6.5,
           6.1,
           6.8,
           6.2,
           6,
           5.9,
           5.9,
           5.9,
           5.8,
           5.6,
           5.7,
           5.7,
           6.3,
           6.1,
           5.6,
           5.9,
           5.6,
           6.7,
           5.6,
           6.7,
           6.1,
           5.9,
           6.2,
           6.4,
           6.5,
           5.7,
           5.7,
           6.1,
           5.9,
           6,
           5.7,
           5.6,
           6.5,
           6,
           5.8,
           6.5,
           5.7,
           5.9,
           6.2,
           5.6,
           5.8,
           5.6,
           5.8,
           6.2,
           5.9,
           5.8,
           5.8,
           5.6,
           6.7,
           6.3,
           6,
           6.4,
           6.2,
           5.9,
           6,
           5.6,
           5.8,
           6.3,
           5.8,
           6.1,
           5.6,
           6.2,
           5.9,
           5.8,
           5.6,
           5.8
          ],
          "colorscale": [
           [
            0,
            "rgb(255,245,240)"
           ],
           [
            0.125,
            "rgb(254,224,210)"
           ],
           [
            0.25,
            "rgb(252,187,161)"
           ],
           [
            0.375,
            "rgb(252,146,114)"
           ],
           [
            0.5,
            "rgb(251,106,74)"
           ],
           [
            0.625,
            "rgb(239,59,44)"
           ],
           [
            0.75,
            "rgb(203,24,29)"
           ],
           [
            0.875,
            "rgb(165,15,21)"
           ],
           [
            1,
            "rgb(103,0,13)"
           ]
          ],
          "size": 5,
          "symbol": "star"
         },
         "mode": "markers",
         "text": [
          "Earthquake",
          "Earthquake",
          "Earthquake",
          "Earthquake",
          "Earthquake",
          "Earthquake",
          "Earthquake",
          "Earthquake",
          "Earthquake",
          "Earthquake",
          "Earthquake",
          "Earthquake",
          "Earthquake",
          "Earthquake",
          "Earthquake",
          "Earthquake",
          "Earthquake",
          "Earthquake",
          "Earthquake",
          "Earthquake",
          "Earthquake",
          "Earthquake",
          "Earthquake",
          "Earthquake",
          "Earthquake",
          "Earthquake",
          "Earthquake",
          "Earthquake",
          "Earthquake",
          "Earthquake",
          "Earthquake",
          "Earthquake",
          "Earthquake",
          "Earthquake",
          "Earthquake",
          "Earthquake",
          "Earthquake",
          "Earthquake",
          "Earthquake",
          "Earthquake",
          "Earthquake",
          "Earthquake",
          "Earthquake",
          "Earthquake",
          "Earthquake",
          "Earthquake",
          "Earthquake",
          "Earthquake",
          "Earthquake",
          "Earthquake",
          "Earthquake",
          "Earthquake",
          "Earthquake",
          "Earthquake",
          "Earthquake",
          "Earthquake",
          "Earthquake",
          "Earthquake",
          "Earthquake",
          "Earthquake",
          "Earthquake",
          "Earthquake",
          "Earthquake",
          "Earthquake",
          "Earthquake",
          "Earthquake",
          "Earthquake",
          "Earthquake",
          "Earthquake",
          "Earthquake",
          "Earthquake",
          "Earthquake",
          "Earthquake",
          "Earthquake",
          "Earthquake",
          "Earthquake",
          "Earthquake",
          "Earthquake",
          "Earthquake",
          "Earthquake",
          "Earthquake",
          "Earthquake",
          "Earthquake",
          "Earthquake",
          "Earthquake",
          "Earthquake",
          "Earthquake",
          "Earthquake",
          "Earthquake",
          "Earthquake",
          "Earthquake",
          "Earthquake",
          "Earthquake",
          "Earthquake",
          "Earthquake",
          "Earthquake",
          "Earthquake",
          "Earthquake",
          "Earthquake",
          "Earthquake",
          "Earthquake",
          "Earthquake",
          "Earthquake",
          "Earthquake",
          "Earthquake",
          "Earthquake",
          "Earthquake",
          "Earthquake",
          "Earthquake",
          "Earthquake",
          "Earthquake",
          "Earthquake",
          "Earthquake",
          "Earthquake",
          "Earthquake",
          "Earthquake",
          "Earthquake",
          "Earthquake",
          "Earthquake",
          "Earthquake",
          "Earthquake",
          "Earthquake",
          "Earthquake",
          "Earthquake",
          "Earthquake",
          "Earthquake",
          "Earthquake",
          "Earthquake",
          "Earthquake",
          "Earthquake",
          "Earthquake",
          "Earthquake",
          "Earthquake",
          "Earthquake",
          "Earthquake",
          "Earthquake",
          "Earthquake",
          "Earthquake",
          "Earthquake",
          "Earthquake",
          "Earthquake",
          "Earthquake",
          "Earthquake",
          "Earthquake",
          "Earthquake",
          "Earthquake",
          "Earthquake",
          "Earthquake",
          "Earthquake",
          "Earthquake",
          "Earthquake",
          "Earthquake",
          "Earthquake",
          "Earthquake",
          "Earthquake",
          "Earthquake",
          "Earthquake",
          "Earthquake",
          "Earthquake",
          "Earthquake",
          "Earthquake",
          "Earthquake",
          "Earthquake",
          "Earthquake",
          "Earthquake",
          "Earthquake",
          "Earthquake",
          "Earthquake",
          "Earthquake",
          "Earthquake",
          "Earthquake",
          "Earthquake",
          "Earthquake",
          "Earthquake",
          "Earthquake",
          "Earthquake",
          "Earthquake",
          "Earthquake",
          "Earthquake",
          "Earthquake",
          "Earthquake",
          "Earthquake",
          "Earthquake",
          "Earthquake",
          "Earthquake",
          "Earthquake",
          "Earthquake",
          "Earthquake",
          "Earthquake",
          "Earthquake",
          "Earthquake",
          "Earthquake",
          "Earthquake",
          "Earthquake",
          "Earthquake",
          "Earthquake",
          "Earthquake",
          "Earthquake",
          "Earthquake",
          "Earthquake",
          "Earthquake",
          "Earthquake",
          "Earthquake",
          "Earthquake",
          "Earthquake",
          "Earthquake",
          "Earthquake",
          "Earthquake",
          "Earthquake",
          "Earthquake",
          "Earthquake",
          "Earthquake",
          "Earthquake",
          "Earthquake",
          "Earthquake",
          "Earthquake",
          "Earthquake",
          "Earthquake",
          "Earthquake",
          "Earthquake",
          "Earthquake",
          "Earthquake",
          "Earthquake",
          "Earthquake",
          "Earthquake",
          "Earthquake",
          "Earthquake",
          "Earthquake",
          "Earthquake",
          "Earthquake",
          "Earthquake",
          "Earthquake",
          "Earthquake",
          "Earthquake",
          "Earthquake",
          "Earthquake",
          "Earthquake",
          "Earthquake",
          "Earthquake",
          "Earthquake",
          "Earthquake",
          "Earthquake",
          "Earthquake",
          "Earthquake",
          "Earthquake",
          "Earthquake",
          "Earthquake",
          "Earthquake",
          "Earthquake",
          "Earthquake",
          "Earthquake",
          "Earthquake",
          "Earthquake",
          "Earthquake",
          "Earthquake",
          "Earthquake",
          "Earthquake",
          "Earthquake",
          "Earthquake",
          "Earthquake",
          "Earthquake",
          "Earthquake",
          "Earthquake",
          "Earthquake",
          "Earthquake",
          "Earthquake",
          "Earthquake",
          "Earthquake",
          "Earthquake",
          "Earthquake",
          "Earthquake",
          "Earthquake",
          "Earthquake",
          "Earthquake",
          "Earthquake",
          "Earthquake",
          "Earthquake",
          "Earthquake",
          "Earthquake",
          "Earthquake",
          "Earthquake",
          "Earthquake",
          "Earthquake",
          "Earthquake",
          "Earthquake",
          "Earthquake",
          "Earthquake",
          "Earthquake",
          "Earthquake",
          "Earthquake",
          "Earthquake",
          "Earthquake",
          "Earthquake",
          "Earthquake",
          "Earthquake",
          "Earthquake",
          "Earthquake",
          "Earthquake",
          "Earthquake",
          "Earthquake",
          "Earthquake",
          "Earthquake",
          "Earthquake",
          "Earthquake",
          "Earthquake",
          "Earthquake",
          "Earthquake",
          "Earthquake",
          "Earthquake",
          "Earthquake",
          "Earthquake",
          "Earthquake",
          "Earthquake",
          "Earthquake",
          "Earthquake",
          "Earthquake",
          "Earthquake",
          "Earthquake",
          "Earthquake",
          "Earthquake",
          "Earthquake",
          "Earthquake",
          "Earthquake",
          "Earthquake",
          "Earthquake",
          "Earthquake",
          "Earthquake",
          "Earthquake",
          "Earthquake",
          "Earthquake",
          "Earthquake",
          "Earthquake",
          "Earthquake",
          "Earthquake",
          "Earthquake",
          "Earthquake",
          "Earthquake",
          "Earthquake",
          "Earthquake"
         ],
         "type": "scattergeo"
        }
       ],
       "layout": {
        "autosize": true,
        "geo": {
         "scope": "world"
        },
        "template": {
         "data": {
          "bar": [
           {
            "error_x": {
             "color": "#2a3f5f"
            },
            "error_y": {
             "color": "#2a3f5f"
            },
            "marker": {
             "line": {
              "color": "#E5ECF6",
              "width": 0.5
             }
            },
            "type": "bar"
           }
          ],
          "barpolar": [
           {
            "marker": {
             "line": {
              "color": "#E5ECF6",
              "width": 0.5
             }
            },
            "type": "barpolar"
           }
          ],
          "carpet": [
           {
            "aaxis": {
             "endlinecolor": "#2a3f5f",
             "gridcolor": "white",
             "linecolor": "white",
             "minorgridcolor": "white",
             "startlinecolor": "#2a3f5f"
            },
            "baxis": {
             "endlinecolor": "#2a3f5f",
             "gridcolor": "white",
             "linecolor": "white",
             "minorgridcolor": "white",
             "startlinecolor": "#2a3f5f"
            },
            "type": "carpet"
           }
          ],
          "choropleth": [
           {
            "colorbar": {
             "outlinewidth": 0,
             "ticks": ""
            },
            "type": "choropleth"
           }
          ],
          "contour": [
           {
            "colorbar": {
             "outlinewidth": 0,
             "ticks": ""
            },
            "colorscale": [
             [
              0,
              "#0d0887"
             ],
             [
              0.1111111111111111,
              "#46039f"
             ],
             [
              0.2222222222222222,
              "#7201a8"
             ],
             [
              0.3333333333333333,
              "#9c179e"
             ],
             [
              0.4444444444444444,
              "#bd3786"
             ],
             [
              0.5555555555555556,
              "#d8576b"
             ],
             [
              0.6666666666666666,
              "#ed7953"
             ],
             [
              0.7777777777777778,
              "#fb9f3a"
             ],
             [
              0.8888888888888888,
              "#fdca26"
             ],
             [
              1,
              "#f0f921"
             ]
            ],
            "type": "contour"
           }
          ],
          "contourcarpet": [
           {
            "colorbar": {
             "outlinewidth": 0,
             "ticks": ""
            },
            "type": "contourcarpet"
           }
          ],
          "heatmap": [
           {
            "colorbar": {
             "outlinewidth": 0,
             "ticks": ""
            },
            "colorscale": [
             [
              0,
              "#0d0887"
             ],
             [
              0.1111111111111111,
              "#46039f"
             ],
             [
              0.2222222222222222,
              "#7201a8"
             ],
             [
              0.3333333333333333,
              "#9c179e"
             ],
             [
              0.4444444444444444,
              "#bd3786"
             ],
             [
              0.5555555555555556,
              "#d8576b"
             ],
             [
              0.6666666666666666,
              "#ed7953"
             ],
             [
              0.7777777777777778,
              "#fb9f3a"
             ],
             [
              0.8888888888888888,
              "#fdca26"
             ],
             [
              1,
              "#f0f921"
             ]
            ],
            "type": "heatmap"
           }
          ],
          "heatmapgl": [
           {
            "colorbar": {
             "outlinewidth": 0,
             "ticks": ""
            },
            "colorscale": [
             [
              0,
              "#0d0887"
             ],
             [
              0.1111111111111111,
              "#46039f"
             ],
             [
              0.2222222222222222,
              "#7201a8"
             ],
             [
              0.3333333333333333,
              "#9c179e"
             ],
             [
              0.4444444444444444,
              "#bd3786"
             ],
             [
              0.5555555555555556,
              "#d8576b"
             ],
             [
              0.6666666666666666,
              "#ed7953"
             ],
             [
              0.7777777777777778,
              "#fb9f3a"
             ],
             [
              0.8888888888888888,
              "#fdca26"
             ],
             [
              1,
              "#f0f921"
             ]
            ],
            "type": "heatmapgl"
           }
          ],
          "histogram": [
           {
            "marker": {
             "colorbar": {
              "outlinewidth": 0,
              "ticks": ""
             }
            },
            "type": "histogram"
           }
          ],
          "histogram2d": [
           {
            "colorbar": {
             "outlinewidth": 0,
             "ticks": ""
            },
            "colorscale": [
             [
              0,
              "#0d0887"
             ],
             [
              0.1111111111111111,
              "#46039f"
             ],
             [
              0.2222222222222222,
              "#7201a8"
             ],
             [
              0.3333333333333333,
              "#9c179e"
             ],
             [
              0.4444444444444444,
              "#bd3786"
             ],
             [
              0.5555555555555556,
              "#d8576b"
             ],
             [
              0.6666666666666666,
              "#ed7953"
             ],
             [
              0.7777777777777778,
              "#fb9f3a"
             ],
             [
              0.8888888888888888,
              "#fdca26"
             ],
             [
              1,
              "#f0f921"
             ]
            ],
            "type": "histogram2d"
           }
          ],
          "histogram2dcontour": [
           {
            "colorbar": {
             "outlinewidth": 0,
             "ticks": ""
            },
            "colorscale": [
             [
              0,
              "#0d0887"
             ],
             [
              0.1111111111111111,
              "#46039f"
             ],
             [
              0.2222222222222222,
              "#7201a8"
             ],
             [
              0.3333333333333333,
              "#9c179e"
             ],
             [
              0.4444444444444444,
              "#bd3786"
             ],
             [
              0.5555555555555556,
              "#d8576b"
             ],
             [
              0.6666666666666666,
              "#ed7953"
             ],
             [
              0.7777777777777778,
              "#fb9f3a"
             ],
             [
              0.8888888888888888,
              "#fdca26"
             ],
             [
              1,
              "#f0f921"
             ]
            ],
            "type": "histogram2dcontour"
           }
          ],
          "mesh3d": [
           {
            "colorbar": {
             "outlinewidth": 0,
             "ticks": ""
            },
            "type": "mesh3d"
           }
          ],
          "parcoords": [
           {
            "line": {
             "colorbar": {
              "outlinewidth": 0,
              "ticks": ""
             }
            },
            "type": "parcoords"
           }
          ],
          "pie": [
           {
            "automargin": true,
            "type": "pie"
           }
          ],
          "scatter": [
           {
            "marker": {
             "colorbar": {
              "outlinewidth": 0,
              "ticks": ""
             }
            },
            "type": "scatter"
           }
          ],
          "scatter3d": [
           {
            "line": {
             "colorbar": {
              "outlinewidth": 0,
              "ticks": ""
             }
            },
            "marker": {
             "colorbar": {
              "outlinewidth": 0,
              "ticks": ""
             }
            },
            "type": "scatter3d"
           }
          ],
          "scattercarpet": [
           {
            "marker": {
             "colorbar": {
              "outlinewidth": 0,
              "ticks": ""
             }
            },
            "type": "scattercarpet"
           }
          ],
          "scattergeo": [
           {
            "marker": {
             "colorbar": {
              "outlinewidth": 0,
              "ticks": ""
             }
            },
            "type": "scattergeo"
           }
          ],
          "scattergl": [
           {
            "marker": {
             "colorbar": {
              "outlinewidth": 0,
              "ticks": ""
             }
            },
            "type": "scattergl"
           }
          ],
          "scattermapbox": [
           {
            "marker": {
             "colorbar": {
              "outlinewidth": 0,
              "ticks": ""
             }
            },
            "type": "scattermapbox"
           }
          ],
          "scatterpolar": [
           {
            "marker": {
             "colorbar": {
              "outlinewidth": 0,
              "ticks": ""
             }
            },
            "type": "scatterpolar"
           }
          ],
          "scatterpolargl": [
           {
            "marker": {
             "colorbar": {
              "outlinewidth": 0,
              "ticks": ""
             }
            },
            "type": "scatterpolargl"
           }
          ],
          "scatterternary": [
           {
            "marker": {
             "colorbar": {
              "outlinewidth": 0,
              "ticks": ""
             }
            },
            "type": "scatterternary"
           }
          ],
          "surface": [
           {
            "colorbar": {
             "outlinewidth": 0,
             "ticks": ""
            },
            "colorscale": [
             [
              0,
              "#0d0887"
             ],
             [
              0.1111111111111111,
              "#46039f"
             ],
             [
              0.2222222222222222,
              "#7201a8"
             ],
             [
              0.3333333333333333,
              "#9c179e"
             ],
             [
              0.4444444444444444,
              "#bd3786"
             ],
             [
              0.5555555555555556,
              "#d8576b"
             ],
             [
              0.6666666666666666,
              "#ed7953"
             ],
             [
              0.7777777777777778,
              "#fb9f3a"
             ],
             [
              0.8888888888888888,
              "#fdca26"
             ],
             [
              1,
              "#f0f921"
             ]
            ],
            "type": "surface"
           }
          ],
          "table": [
           {
            "cells": {
             "fill": {
              "color": "#EBF0F8"
             },
             "line": {
              "color": "white"
             }
            },
            "header": {
             "fill": {
              "color": "#C8D4E3"
             },
             "line": {
              "color": "white"
             }
            },
            "type": "table"
           }
          ]
         },
         "layout": {
          "annotationdefaults": {
           "arrowcolor": "#2a3f5f",
           "arrowhead": 0,
           "arrowwidth": 1
          },
          "autotypenumbers": "strict",
          "coloraxis": {
           "colorbar": {
            "outlinewidth": 0,
            "ticks": ""
           }
          },
          "colorscale": {
           "diverging": [
            [
             0,
             "#8e0152"
            ],
            [
             0.1,
             "#c51b7d"
            ],
            [
             0.2,
             "#de77ae"
            ],
            [
             0.3,
             "#f1b6da"
            ],
            [
             0.4,
             "#fde0ef"
            ],
            [
             0.5,
             "#f7f7f7"
            ],
            [
             0.6,
             "#e6f5d0"
            ],
            [
             0.7,
             "#b8e186"
            ],
            [
             0.8,
             "#7fbc41"
            ],
            [
             0.9,
             "#4d9221"
            ],
            [
             1,
             "#276419"
            ]
           ],
           "sequential": [
            [
             0,
             "#0d0887"
            ],
            [
             0.1111111111111111,
             "#46039f"
            ],
            [
             0.2222222222222222,
             "#7201a8"
            ],
            [
             0.3333333333333333,
             "#9c179e"
            ],
            [
             0.4444444444444444,
             "#bd3786"
            ],
            [
             0.5555555555555556,
             "#d8576b"
            ],
            [
             0.6666666666666666,
             "#ed7953"
            ],
            [
             0.7777777777777778,
             "#fb9f3a"
            ],
            [
             0.8888888888888888,
             "#fdca26"
            ],
            [
             1,
             "#f0f921"
            ]
           ],
           "sequentialminus": [
            [
             0,
             "#0d0887"
            ],
            [
             0.1111111111111111,
             "#46039f"
            ],
            [
             0.2222222222222222,
             "#7201a8"
            ],
            [
             0.3333333333333333,
             "#9c179e"
            ],
            [
             0.4444444444444444,
             "#bd3786"
            ],
            [
             0.5555555555555556,
             "#d8576b"
            ],
            [
             0.6666666666666666,
             "#ed7953"
            ],
            [
             0.7777777777777778,
             "#fb9f3a"
            ],
            [
             0.8888888888888888,
             "#fdca26"
            ],
            [
             1,
             "#f0f921"
            ]
           ]
          },
          "colorway": [
           "#636efa",
           "#EF553B",
           "#00cc96",
           "#ab63fa",
           "#FFA15A",
           "#19d3f3",
           "#FF6692",
           "#B6E880",
           "#FF97FF",
           "#FECB52"
          ],
          "font": {
           "color": "#2a3f5f"
          },
          "geo": {
           "bgcolor": "white",
           "lakecolor": "white",
           "landcolor": "#E5ECF6",
           "showlakes": true,
           "showland": true,
           "subunitcolor": "white"
          },
          "hoverlabel": {
           "align": "left"
          },
          "hovermode": "closest",
          "mapbox": {
           "style": "light"
          },
          "paper_bgcolor": "white",
          "plot_bgcolor": "#E5ECF6",
          "polar": {
           "angularaxis": {
            "gridcolor": "white",
            "linecolor": "white",
            "ticks": ""
           },
           "bgcolor": "#E5ECF6",
           "radialaxis": {
            "gridcolor": "white",
            "linecolor": "white",
            "ticks": ""
           }
          },
          "scene": {
           "xaxis": {
            "backgroundcolor": "#E5ECF6",
            "gridcolor": "white",
            "gridwidth": 2,
            "linecolor": "white",
            "showbackground": true,
            "ticks": "",
            "zerolinecolor": "white"
           },
           "yaxis": {
            "backgroundcolor": "#E5ECF6",
            "gridcolor": "white",
            "gridwidth": 2,
            "linecolor": "white",
            "showbackground": true,
            "ticks": "",
            "zerolinecolor": "white"
           },
           "zaxis": {
            "backgroundcolor": "#E5ECF6",
            "gridcolor": "white",
            "gridwidth": 2,
            "linecolor": "white",
            "showbackground": true,
            "ticks": "",
            "zerolinecolor": "white"
           }
          },
          "shapedefaults": {
           "line": {
            "color": "#2a3f5f"
           }
          },
          "ternary": {
           "aaxis": {
            "gridcolor": "white",
            "linecolor": "white",
            "ticks": ""
           },
           "baxis": {
            "gridcolor": "white",
            "linecolor": "white",
            "ticks": ""
           },
           "bgcolor": "#E5ECF6",
           "caxis": {
            "gridcolor": "white",
            "linecolor": "white",
            "ticks": ""
           }
          },
          "title": {
           "x": 0.05
          },
          "xaxis": {
           "automargin": true,
           "gridcolor": "white",
           "linecolor": "white",
           "ticks": "",
           "title": {
            "standoff": 15
           },
           "zerolinecolor": "white",
           "zerolinewidth": 2
          },
          "yaxis": {
           "automargin": true,
           "gridcolor": "white",
           "linecolor": "white",
           "ticks": "",
           "title": {
            "standoff": 15
           },
           "zerolinecolor": "white",
           "zerolinewidth": 2
          }
         }
        },
        "title": {
         "text": "Earthquake location around the world in year 1965"
        }
       }
      },
      "image/png": "[encoded data removed]",
      "text/html": [
       "<div>                            <div id=\"bfe99940-5af5-4e30-9732-b00dd9680caa\" class=\"plotly-graph-div\" style=\"height:525px; width:100%;\"></div>            <script type=\"text/javascript\">                require([\"plotly\"], function(Plotly) {                    window.PLOTLYENV=window.PLOTLYENV || {};                                    if (document.getElementById(\"bfe99940-5af5-4e30-9732-b00dd9680caa\")) {                    Plotly.newPlot(                        \"bfe99940-5af5-4e30-9732-b00dd9680caa\",                        [{\"lat\": [19.246, 1.8630000000000002, -20.579, -59.076, 11.937999999999999, -13.405, 27.357, -13.309000000000001, -56.452, -24.563000000000002, -6.807, -2.608, 54.636, -18.697, 37.523, -51.84, 51.251000000000005, 51.638999999999996, 52.528, 51.626000000000005, 51.037, 51.73, 51.775, 52.611000000000004, 51.831, 51.948, 51.443000000000005, 52.773, 51.772, 52.975, 52.99, 51.536, 13.245, 51.812, 51.762, 52.438, 51.946000000000005, 51.738, 51.486999999999995, 53.008, 52.184, 52.076, 51.744, 52.056999999999995, 53.191, 51.446999999999996, 51.258, 52.031000000000006, 51.294, 55.223, -18.718, 52.815, 52.188, 51.00899999999999, 3.0260000000000002, 38.908, 51.693999999999996, 21.526999999999997, 25.011, -7.251, 51.415, -15.343, -25.633000000000003, -5.461, 51.88399999999999, 6.746, 28.133000000000003, -5.377000000000001, 21.104, -5.371, 21.122, 52.20399999999999, 15.404000000000002, 38.399, -27.145, -5.513999999999999, 53.04600000000001, -5.487, 50.928000000000004, 52.39, -27.026999999999997, 52.416000000000004, -18.425, 20.13, -29.998, 39.196999999999996, 53.292, 36.405, 22.635, 40.696999999999996, 52.785, -20.035999999999998, -55.857, -1.8869999999999998, -1.547, -15.262, -31.974, -15.382, 8.418, 55.26, -32.522, 40.687, -20.502, 50.282, 38.365, 9.986, 15.8, 51.865, -27.088, 37.505, 44.812, 36.083, -0.46299999999999997, 52.192, -32.707, 35.047, -20.455, -17.857, -13.409, -42.692, -26.168000000000003, 30.316999999999997, 25.08, 64.572, 41.46, -59.687, -59.586000000000006, 34.848, 11.450999999999999, 24.409000000000002, -1.733, 54.157, 21.045, -6.822, 35.626, 1.3330000000000002, 47.288000000000004, -5.547999999999999, 60.35, 28.927, -32.537, 13.683, -24.281, 41.801, -3.523, -6.1739999999999995, -4.131, 5.268, 22.336, -8.937999999999999, -6.575, -4.819, -14.921, 1.3090000000000002, -21.125999999999998, 52.148999999999994, 13.174000000000001, 51.227, -55.957, -7.566, -23.54, 15.674000000000001, -1.649, 51.88399999999999, 44.608000000000004, 44.578, 44.133, 44.111999999999995, 44.299, 44.167, 43.775, 43.803999999999995, 43.885, -20.38, 41.705, 37.718, -39.902, -38.08, -21.025, 32.052, 44.505, 42.973, 28.134, 7.175, 56.543, 7.034, -54.437, 60.281000000000006, 23.764, -5.01, -1.734, 51.813, -63.159, 52.99, 22.338, -22.566999999999997, 38.384, 46.591, -4.408, -6.819, -28.428, 7.74, -9.72, 7.56, 53.318000000000005, 1.8130000000000002, 41.278, 51.472, -2.335, 51.05, 50.799, 51.076, 6.789, -32.441, -56.04600000000001, -7.526, -5.212999999999999, -15.449000000000002, -15.67, -15.685, -15.741, -15.860999999999999, -15.817, -5.36, -15.931, -15.97, -15.995, -15.870999999999999, -16.198, -16.801, -6.38, -15.819, -11.385, -0.53, 4.872, -15.185, -15.945, -5.7139999999999995, -18.954, -22.886999999999997, -5.921, 40.459, 16.081, 15.837, 44.453, -16.930999999999997, -6.428, -34.596, 51.867, 46.515, 58.09, 57.513000000000005, 6.47, -5.349, -6.209, -6.416, 55.338, -36.448, 8.382, 7.156000000000001, -1.443, 36.269, 36.245, 36.27, 8.187999999999999, 28.951999999999998, 20.682, -5.391, 36.395, 13.092, 39.626, -54.757, 51.751999999999995, -28.278000000000002, 59.28, 49.937, -19.921, -60.468, 49.426, -42.968999999999994, 12.347000000000001, -59.225, 56.19, 3.113, -7.981, -1.28, 52.36600000000001, 53.901, 4.203, 49.646, 44.12, -1.2570000000000001, -9.031, -22.456999999999997, -3.1439999999999997, -22.125999999999998, 30.628, 43.745, -29.414, 36.514, -0.22399999999999998, 6.553, 30.886999999999997, 25.449, -7.058, -18.855, 53.909, -7.225, -6.193, 51.93600000000001, 51.361000000000004, 2.983, 51.42, -8.666, 33.010999999999996, -9.611, -45.847, 36.096, -4.841, 51.101000000000006, 52.611999999999995, 18.919, -6.457999999999999, -37.199, 17.135, -18.108, -11.292, 44.688, 44.757, -56.722, 7.65, 52.293, 58.335, 60.481, -18.096, -5.2010000000000005, 27.863000000000003, 54.21, -16.673], \"lon\": [145.616, 127.352, -173.972, -23.557, 126.427, 166.62900000000002, 87.867, 166.21200000000002, -27.043000000000003, 178.487, 108.988, 125.95200000000001, 161.703, -177.864, 73.251, 139.741, 178.715, 175.055, 172.007, 175.74599999999998, 177.84799999999998, 173.975, 173.058, 172.588, 174.368, 173.96900000000002, 179.605, 171.97400000000002, 174.696, 171.09099999999998, 170.87400000000002, 175.045, -44.922, 174.206, 174.84099999999998, 174.321, 173.84, 174.56599999999997, 176.558, -162.00799999999998, 175.505, 172.918, 175.213, 174.11599999999999, -161.859, 176.46900000000002, 173.393, 175.41099999999997, 179.092, 165.426, 169.386, 171.90400000000002, 172.752, 179.325, 125.95100000000001, 142.095, 176.446, 143.08100000000002, 94.186, 126.715, 179.358, -172.889, -70.679, 151.98, 173.072, -72.971, -112.208, 152.115, 121.21799999999999, 152.055, 121.148, 173.91099999999997, -92.62299999999999, 28.226, -177.262, 151.819, 171.308, 146.993, 179.511, 174.937, -63.214, 174.239, -132.923, 121.461, -177.968, 23.86, -162.33100000000002, 70.72399999999999, 121.117, 143.032, 171.821, -175.89, -26.758000000000003, 119.836, 126.62299999999999, -173.25400000000002, -71.57300000000001, -173.19400000000002, 126.553, 161.904, -71.233, 142.915, -173.701, 177.959, 22.405, 125.896, -98.06700000000001, 175.172, -176.046, 22.066999999999997, 150.871, 139.968, 120.039, 173.437, -178.207, 24.318, -173.62099999999998, -178.646, 170.37599999999998, 174.205, 178.628, 138.702, 122.897, -160.375, -127.416, -26.454, -26.372, 138.332, 140.231, 142.776, 126.568, -162.59, 120.79799999999999, 129.504, 23.425, -85.075, -122.406, 110.33200000000001, -146.17600000000002, 128.769, -70.569, -89.07, -67.92699999999999, 79.414, 137.924, 130.358, 134.946, 125.46700000000001, 121.24799999999999, 159.083, 105.311, 152.436, 167.34, 126.23899999999999, -178.537, 175.11900000000003, 124.604, 178.882, -27.875, 128.578, -179.917, -46.711999999999996, 126.552, 174.015, 149.02200000000002, 148.69899999999998, 149.255, 149.539, 149.032, 149.87, 149.44799999999998, 149.351, 149.339, -68.944, 143.727, 29.378, 45.55, 177.442, 173.574, 87.78399999999999, 149.218, -126.652, 55.891000000000005, 123.613, -152.94799999999998, 126.25, 4.965, -141.418, 121.56, 153.06, 126.53, 176.53, -163.707, -167.739, 101.49600000000001, 172.93900000000002, 22.545, 152.467, 155.062, 105.505, -68.25, 123.811, 159.888, 124.24700000000001, 170.365, 99.27600000000001, 146.68200000000002, 175.894, 101.76700000000001, -171.28900000000002, -171.607, -171.46599999999998, -72.907, -178.803, 157.922, -81.179, 151.701, 166.98, 167.21599999999998, 167.097, 167.26, 167.092, 167.399, 152.116, 167.392, 167.43900000000002, 166.96, 166.96, 167.607, 167.602, 148.543, 166.794, 166.332, -19.951, 95.836, 166.67, 166.99900000000002, 128.493, -68.82, -176.19400000000002, 103.993, 26.206, -95.867, -96.235, 149.06, 167.454, 104.667, 179.922, 175.451, 153.387, -152.525, -152.263, -84.40799999999999, 152.955, 151.651, 70.726, 165.731, -97.6, 126.895, 126.522, -77.476, 141.533, 141.53, 141.361, 126.874, 128.227, 99.32600000000001, 151.631, 141.46, 145.167, 143.357, -38.244, 175.5, -177.99900000000002, -144.06, 178.166, 174.48, -24.551, 156.417, -75.225, 114.485, -25.090999999999998, -153.615, 128.558, 156.287, 127.725, 174.25400000000002, -165.403, 125.787, 156.116, 145.389, 127.735, -71.139, -113.788, 143.789, -113.928, 140.23, 87.84299999999999, -68.166, 141.22899999999998, -18.645, 126.90299999999999, -41.479, 125.319, 129.347, -177.72099999999998, 160.579, 129.12, 130.40200000000002, -176.092, -179.71599999999998, 124.831, -179.7, 111.103, 141.079, 159.797, -72.958, 27.318, 103.103, -170.604, 173.14, -107.176, 146.298, 177.558, -100.126, -178.062, 166.143, 149.939, 150.195, -141.439, -81.913, 160.356, -153.303, -140.766, -178.979, 151.583, 141.99200000000002, -164.476, -71.111], \"marker\": {\"color\": [6.0, 5.8, 6.2, 5.8, 5.8, 6.7, 5.9, 6.0, 6.0, 5.8, 5.9, 8.2, 5.5, 5.6, 6.0, 6.1, 8.7, 6.0, 5.7, 5.8, 5.9, 5.9, 5.7, 5.7, 5.7, 5.6, 7.3, 6.5, 5.6, 6.4, 5.8, 5.8, 5.8, 5.7, 5.7, 6.3, 5.7, 6.0, 5.6, 6.4, 6.2, 5.6, 5.7, 5.7, 6.3, 5.8, 5.7, 5.7, 5.8, 5.9, 5.6, 6.0, 5.8, 5.8, 5.9, 5.7, 5.7, 5.6, 5.6, 5.9, 5.8, 5.8, 7.0, 6.2, 6.2, 5.6, 6.0, 5.9, 5.7, 5.5, 5.6, 5.7, 5.6, 5.8, 5.6, 6.7, 6.3, 5.7, 5.5, 5.6, 5.8, 5.6, 5.6, 5.8, 6.0, 6.1, 5.7, 7.4, 5.8, 6.4, 6.0, 6.3, 5.7, 6.0, 6.3, 6.5, 6.2, 6.2, 5.7, 5.8, 7.4, 6.4, 5.9, 7.6, 6.8, 5.9, 5.8, 5.7, 5.6, 6.1, 5.7, 5.7, 6.2, 6.1, 6.0, 6.2, 5.7, 6.5, 6.3, 5.9, 5.7, 5.6, 5.6, 6.0, 5.9, 6.1, 6.1, 6.0, 5.8, 6.0, 5.7, 5.6, 6.1, 6.0, 6.1, 5.8, 6.7, 6.0, 5.6, 5.8, 5.8, 5.9, 5.7, 6.2, 5.7, 6.1, 5.8, 5.9, 6.7, 5.6, 5.6, 5.5, 7.7, 5.7, 6.1, 6.0, 5.9, 5.8, 6.0, 5.9, 5.7, 5.9, 5.6, 5.6, 7.0, 7.2, 5.5, 5.6, 5.7, 5.6, 5.7, 5.7, 5.5, 5.9, 6.1, 5.9, 5.6, 5.9, 6.2, 5.9, 5.6, 5.5, 5.9, 6.3, 6.5, 5.8, 5.7, 6.5, 5.9, 6.0, 5.8, 5.7, 6.1, 7.8, 5.9, 5.8, 6.3, 5.6, 6.3, 5.7, 5.7, 6.0, 5.9, 5.7, 5.5, 5.5, 5.6, 5.7, 5.6, 6.8, 5.7, 5.6, 5.6, 5.9, 7.3, 5.7, 6.5, 7.2, 5.8, 6.9, 6.0, 7.6, 6.9, 6.8, 5.9, 5.8, 6.1, 7.4, 7.2, 6.2, 6.0, 6.0, 5.7, 6.2, 6.1, 5.8, 6.2, 6.7, 6.7, 6.1, 5.6, 6.0, 7.4, 5.8, 5.7, 5.8, 5.7, 5.8, 5.5, 5.9, 7.0, 5.7, 6.2, 6.2, 6.1, 6.3, 5.9, 6.1, 5.8, 6.0, 6.5, 5.8, 5.9, 6.8, 6.0, 6.7, 5.9, 5.9, 6.3, 5.6, 5.7, 5.8, 5.6, 6.5, 6.1, 6.8, 6.2, 6.0, 5.9, 5.9, 5.9, 5.8, 5.6, 5.7, 5.7, 6.3, 6.1, 5.6, 5.9, 5.6, 6.7, 5.6, 6.7, 6.1, 5.9, 6.2, 6.4, 6.5, 5.7, 5.7, 6.1, 5.9, 6.0, 5.7, 5.6, 6.5, 6.0, 5.8, 6.5, 5.7, 5.9, 6.2, 5.6, 5.8, 5.6, 5.8, 6.2, 5.9, 5.8, 5.8, 5.6, 6.7, 6.3, 6.0, 6.4, 6.2, 5.9, 6.0, 5.6, 5.8, 6.3, 5.8, 6.1, 5.6, 6.2, 5.9, 5.8, 5.6, 5.8], \"colorscale\": [[0.0, \"rgb(255,245,240)\"], [0.125, \"rgb(254,224,210)\"], [0.25, \"rgb(252,187,161)\"], [0.375, \"rgb(252,146,114)\"], [0.5, \"rgb(251,106,74)\"], [0.625, \"rgb(239,59,44)\"], [0.75, \"rgb(203,24,29)\"], [0.875, \"rgb(165,15,21)\"], [1.0, \"rgb(103,0,13)\"]], \"size\": 5, \"symbol\": \"star\"}, \"mode\": \"markers\", \"text\": [\"Earthquake\", \"Earthquake\", \"Earthquake\", \"Earthquake\", \"Earthquake\", \"Earthquake\", \"Earthquake\", \"Earthquake\", \"Earthquake\", \"Earthquake\", \"Earthquake\", \"Earthquake\", \"Earthquake\", \"Earthquake\", \"Earthquake\", \"Earthquake\", \"Earthquake\", \"Earthquake\", \"Earthquake\", \"Earthquake\", \"Earthquake\", \"Earthquake\", \"Earthquake\", \"Earthquake\", \"Earthquake\", \"Earthquake\", \"Earthquake\", \"Earthquake\", \"Earthquake\", \"Earthquake\", \"Earthquake\", \"Earthquake\", \"Earthquake\", \"Earthquake\", \"Earthquake\", \"Earthquake\", \"Earthquake\", \"Earthquake\", \"Earthquake\", \"Earthquake\", \"Earthquake\", \"Earthquake\", \"Earthquake\", \"Earthquake\", \"Earthquake\", \"Earthquake\", \"Earthquake\", \"Earthquake\", \"Earthquake\", \"Earthquake\", \"Earthquake\", \"Earthquake\", \"Earthquake\", \"Earthquake\", \"Earthquake\", \"Earthquake\", \"Earthquake\", \"Earthquake\", \"Earthquake\", \"Earthquake\", \"Earthquake\", \"Earthquake\", \"Earthquake\", \"Earthquake\", \"Earthquake\", \"Earthquake\", \"Earthquake\", \"Earthquake\", \"Earthquake\", \"Earthquake\", \"Earthquake\", \"Earthquake\", \"Earthquake\", \"Earthquake\", \"Earthquake\", \"Earthquake\", \"Earthquake\", \"Earthquake\", \"Earthquake\", \"Earthquake\", \"Earthquake\", \"Earthquake\", \"Earthquake\", \"Earthquake\", \"Earthquake\", \"Earthquake\", \"Earthquake\", \"Earthquake\", \"Earthquake\", \"Earthquake\", \"Earthquake\", \"Earthquake\", \"Earthquake\", \"Earthquake\", \"Earthquake\", \"Earthquake\", \"Earthquake\", \"Earthquake\", \"Earthquake\", \"Earthquake\", \"Earthquake\", \"Earthquake\", \"Earthquake\", \"Earthquake\", \"Earthquake\", \"Earthquake\", \"Earthquake\", \"Earthquake\", \"Earthquake\", \"Earthquake\", \"Earthquake\", \"Earthquake\", \"Earthquake\", \"Earthquake\", \"Earthquake\", \"Earthquake\", \"Earthquake\", \"Earthquake\", \"Earthquake\", \"Earthquake\", \"Earthquake\", \"Earthquake\", \"Earthquake\", \"Earthquake\", \"Earthquake\", \"Earthquake\", \"Earthquake\", \"Earthquake\", \"Earthquake\", \"Earthquake\", \"Earthquake\", \"Earthquake\", \"Earthquake\", \"Earthquake\", \"Earthquake\", \"Earthquake\", \"Earthquake\", \"Earthquake\", \"Earthquake\", \"Earthquake\", \"Earthquake\", \"Earthquake\", \"Earthquake\", \"Earthquake\", \"Earthquake\", \"Earthquake\", \"Earthquake\", \"Earthquake\", \"Earthquake\", \"Earthquake\", \"Earthquake\", \"Earthquake\", \"Earthquake\", \"Earthquake\", \"Earthquake\", \"Earthquake\", \"Earthquake\", \"Earthquake\", \"Earthquake\", \"Earthquake\", \"Earthquake\", \"Earthquake\", \"Earthquake\", \"Earthquake\", \"Earthquake\", \"Earthquake\", \"Earthquake\", \"Earthquake\", \"Earthquake\", \"Earthquake\", \"Earthquake\", \"Earthquake\", \"Earthquake\", \"Earthquake\", \"Earthquake\", \"Earthquake\", \"Earthquake\", \"Earthquake\", \"Earthquake\", \"Earthquake\", \"Earthquake\", \"Earthquake\", \"Earthquake\", \"Earthquake\", \"Earthquake\", \"Earthquake\", \"Earthquake\", \"Earthquake\", \"Earthquake\", \"Earthquake\", \"Earthquake\", \"Earthquake\", \"Earthquake\", \"Earthquake\", \"Earthquake\", \"Earthquake\", \"Earthquake\", \"Earthquake\", \"Earthquake\", \"Earthquake\", \"Earthquake\", \"Earthquake\", \"Earthquake\", \"Earthquake\", \"Earthquake\", \"Earthquake\", \"Earthquake\", \"Earthquake\", \"Earthquake\", \"Earthquake\", \"Earthquake\", \"Earthquake\", \"Earthquake\", \"Earthquake\", \"Earthquake\", \"Earthquake\", \"Earthquake\", \"Earthquake\", \"Earthquake\", \"Earthquake\", \"Earthquake\", \"Earthquake\", \"Earthquake\", \"Earthquake\", \"Earthquake\", \"Earthquake\", \"Earthquake\", \"Earthquake\", \"Earthquake\", \"Earthquake\", \"Earthquake\", \"Earthquake\", \"Earthquake\", \"Earthquake\", \"Earthquake\", \"Earthquake\", \"Earthquake\", \"Earthquake\", \"Earthquake\", \"Earthquake\", \"Earthquake\", \"Earthquake\", \"Earthquake\", \"Earthquake\", \"Earthquake\", \"Earthquake\", \"Earthquake\", \"Earthquake\", \"Earthquake\", \"Earthquake\", \"Earthquake\", \"Earthquake\", \"Earthquake\", \"Earthquake\", \"Earthquake\", \"Earthquake\", \"Earthquake\", \"Earthquake\", \"Earthquake\", \"Earthquake\", \"Earthquake\", \"Earthquake\", \"Earthquake\", \"Earthquake\", \"Earthquake\", \"Earthquake\", \"Earthquake\", \"Earthquake\", \"Earthquake\", \"Earthquake\", \"Earthquake\", \"Earthquake\", \"Earthquake\", \"Earthquake\", \"Earthquake\", \"Earthquake\", \"Earthquake\", \"Earthquake\", \"Earthquake\", \"Earthquake\", \"Earthquake\", \"Earthquake\", \"Earthquake\", \"Earthquake\", \"Earthquake\", \"Earthquake\", \"Earthquake\", \"Earthquake\", \"Earthquake\", \"Earthquake\", \"Earthquake\", \"Earthquake\", \"Earthquake\", \"Earthquake\", \"Earthquake\", \"Earthquake\", \"Earthquake\", \"Earthquake\", \"Earthquake\", \"Earthquake\", \"Earthquake\", \"Earthquake\", \"Earthquake\", \"Earthquake\", \"Earthquake\", \"Earthquake\", \"Earthquake\", \"Earthquake\", \"Earthquake\", \"Earthquake\", \"Earthquake\", \"Earthquake\", \"Earthquake\", \"Earthquake\", \"Earthquake\", \"Earthquake\", \"Earthquake\", \"Earthquake\", \"Earthquake\", \"Earthquake\", \"Earthquake\", \"Earthquake\", \"Earthquake\", \"Earthquake\", \"Earthquake\", \"Earthquake\", \"Earthquake\", \"Earthquake\", \"Earthquake\", \"Earthquake\", \"Earthquake\", \"Earthquake\", \"Earthquake\", \"Earthquake\", \"Earthquake\", \"Earthquake\", \"Earthquake\", \"Earthquake\", \"Earthquake\"], \"type\": \"scattergeo\"}],                        {\"geo\": {\"scope\": \"world\"}, \"template\": {\"data\": {\"bar\": [{\"error_x\": {\"color\": \"#2a3f5f\"}, \"error_y\": {\"color\": \"#2a3f5f\"}, \"marker\": {\"line\": {\"color\": \"#E5ECF6\", \"width\": 0.5}}, \"type\": \"bar\"}], \"barpolar\": [{\"marker\": {\"line\": {\"color\": \"#E5ECF6\", \"width\": 0.5}}, \"type\": \"barpolar\"}], \"carpet\": [{\"aaxis\": {\"endlinecolor\": \"#2a3f5f\", \"gridcolor\": \"white\", \"linecolor\": \"white\", \"minorgridcolor\": \"white\", \"startlinecolor\": \"#2a3f5f\"}, \"baxis\": {\"endlinecolor\": \"#2a3f5f\", \"gridcolor\": \"white\", \"linecolor\": \"white\", \"minorgridcolor\": \"white\", \"startlinecolor\": \"#2a3f5f\"}, \"type\": \"carpet\"}], \"choropleth\": [{\"colorbar\": {\"outlinewidth\": 0, \"ticks\": \"\"}, \"type\": \"choropleth\"}], \"contour\": [{\"colorbar\": {\"outlinewidth\": 0, \"ticks\": \"\"}, \"colorscale\": [[0.0, \"#0d0887\"], [0.1111111111111111, \"#46039f\"], [0.2222222222222222, \"#7201a8\"], [0.3333333333333333, \"#9c179e\"], [0.4444444444444444, \"#bd3786\"], [0.5555555555555556, \"#d8576b\"], [0.6666666666666666, \"#ed7953\"], [0.7777777777777778, \"#fb9f3a\"], [0.8888888888888888, \"#fdca26\"], [1.0, \"#f0f921\"]], \"type\": \"contour\"}], \"contourcarpet\": [{\"colorbar\": {\"outlinewidth\": 0, \"ticks\": \"\"}, \"type\": \"contourcarpet\"}], \"heatmap\": [{\"colorbar\": {\"outlinewidth\": 0, \"ticks\": \"\"}, \"colorscale\": [[0.0, \"#0d0887\"], [0.1111111111111111, \"#46039f\"], [0.2222222222222222, \"#7201a8\"], [0.3333333333333333, \"#9c179e\"], [0.4444444444444444, \"#bd3786\"], [0.5555555555555556, \"#d8576b\"], [0.6666666666666666, \"#ed7953\"], [0.7777777777777778, \"#fb9f3a\"], [0.8888888888888888, \"#fdca26\"], [1.0, \"#f0f921\"]], \"type\": \"heatmap\"}], \"heatmapgl\": [{\"colorbar\": {\"outlinewidth\": 0, \"ticks\": \"\"}, \"colorscale\": [[0.0, \"#0d0887\"], [0.1111111111111111, \"#46039f\"], [0.2222222222222222, \"#7201a8\"], [0.3333333333333333, \"#9c179e\"], [0.4444444444444444, \"#bd3786\"], [0.5555555555555556, \"#d8576b\"], [0.6666666666666666, \"#ed7953\"], [0.7777777777777778, \"#fb9f3a\"], [0.8888888888888888, \"#fdca26\"], [1.0, \"#f0f921\"]], \"type\": \"heatmapgl\"}], \"histogram\": [{\"marker\": {\"colorbar\": {\"outlinewidth\": 0, \"ticks\": \"\"}}, \"type\": \"histogram\"}], \"histogram2d\": [{\"colorbar\": {\"outlinewidth\": 0, \"ticks\": \"\"}, \"colorscale\": [[0.0, \"#0d0887\"], [0.1111111111111111, \"#46039f\"], [0.2222222222222222, \"#7201a8\"], [0.3333333333333333, \"#9c179e\"], [0.4444444444444444, \"#bd3786\"], [0.5555555555555556, \"#d8576b\"], [0.6666666666666666, \"#ed7953\"], [0.7777777777777778, \"#fb9f3a\"], [0.8888888888888888, \"#fdca26\"], [1.0, \"#f0f921\"]], \"type\": \"histogram2d\"}], \"histogram2dcontour\": [{\"colorbar\": {\"outlinewidth\": 0, \"ticks\": \"\"}, \"colorscale\": [[0.0, \"#0d0887\"], [0.1111111111111111, \"#46039f\"], [0.2222222222222222, \"#7201a8\"], [0.3333333333333333, \"#9c179e\"], [0.4444444444444444, \"#bd3786\"], [0.5555555555555556, \"#d8576b\"], [0.6666666666666666, \"#ed7953\"], [0.7777777777777778, \"#fb9f3a\"], [0.8888888888888888, \"#fdca26\"], [1.0, \"#f0f921\"]], \"type\": \"histogram2dcontour\"}], \"mesh3d\": [{\"colorbar\": {\"outlinewidth\": 0, \"ticks\": \"\"}, \"type\": \"mesh3d\"}], \"parcoords\": [{\"line\": {\"colorbar\": {\"outlinewidth\": 0, \"ticks\": \"\"}}, \"type\": \"parcoords\"}], \"pie\": [{\"automargin\": true, \"type\": \"pie\"}], \"scatter\": [{\"marker\": {\"colorbar\": {\"outlinewidth\": 0, \"ticks\": \"\"}}, \"type\": \"scatter\"}], \"scatter3d\": [{\"line\": {\"colorbar\": {\"outlinewidth\": 0, \"ticks\": \"\"}}, \"marker\": {\"colorbar\": {\"outlinewidth\": 0, \"ticks\": \"\"}}, \"type\": \"scatter3d\"}], \"scattercarpet\": [{\"marker\": {\"colorbar\": {\"outlinewidth\": 0, \"ticks\": \"\"}}, \"type\": \"scattercarpet\"}], \"scattergeo\": [{\"marker\": {\"colorbar\": {\"outlinewidth\": 0, \"ticks\": \"\"}}, \"type\": \"scattergeo\"}], \"scattergl\": [{\"marker\": {\"colorbar\": {\"outlinewidth\": 0, \"ticks\": \"\"}}, \"type\": \"scattergl\"}], \"scattermapbox\": [{\"marker\": {\"colorbar\": {\"outlinewidth\": 0, \"ticks\": \"\"}}, \"type\": \"scattermapbox\"}], \"scatterpolar\": [{\"marker\": {\"colorbar\": {\"outlinewidth\": 0, \"ticks\": \"\"}}, \"type\": \"scatterpolar\"}], \"scatterpolargl\": [{\"marker\": {\"colorbar\": {\"outlinewidth\": 0, \"ticks\": \"\"}}, \"type\": \"scatterpolargl\"}], \"scatterternary\": [{\"marker\": {\"colorbar\": {\"outlinewidth\": 0, \"ticks\": \"\"}}, \"type\": \"scatterternary\"}], \"surface\": [{\"colorbar\": {\"outlinewidth\": 0, \"ticks\": \"\"}, \"colorscale\": [[0.0, \"#0d0887\"], [0.1111111111111111, \"#46039f\"], [0.2222222222222222, \"#7201a8\"], [0.3333333333333333, \"#9c179e\"], [0.4444444444444444, \"#bd3786\"], [0.5555555555555556, \"#d8576b\"], [0.6666666666666666, \"#ed7953\"], [0.7777777777777778, \"#fb9f3a\"], [0.8888888888888888, \"#fdca26\"], [1.0, \"#f0f921\"]], \"type\": \"surface\"}], \"table\": [{\"cells\": {\"fill\": {\"color\": \"#EBF0F8\"}, \"line\": {\"color\": \"white\"}}, \"header\": {\"fill\": {\"color\": \"#C8D4E3\"}, \"line\": {\"color\": \"white\"}}, \"type\": \"table\"}]}, \"layout\": {\"annotationdefaults\": {\"arrowcolor\": \"#2a3f5f\", \"arrowhead\": 0, \"arrowwidth\": 1}, \"autotypenumbers\": \"strict\", \"coloraxis\": {\"colorbar\": {\"outlinewidth\": 0, \"ticks\": \"\"}}, \"colorscale\": {\"diverging\": [[0, \"#8e0152\"], [0.1, \"#c51b7d\"], [0.2, \"#de77ae\"], [0.3, \"#f1b6da\"], [0.4, \"#fde0ef\"], [0.5, \"#f7f7f7\"], [0.6, \"#e6f5d0\"], [0.7, \"#b8e186\"], [0.8, \"#7fbc41\"], [0.9, \"#4d9221\"], [1, \"#276419\"]], \"sequential\": [[0.0, \"#0d0887\"], [0.1111111111111111, \"#46039f\"], [0.2222222222222222, \"#7201a8\"], [0.3333333333333333, \"#9c179e\"], [0.4444444444444444, \"#bd3786\"], [0.5555555555555556, \"#d8576b\"], [0.6666666666666666, \"#ed7953\"], [0.7777777777777778, \"#fb9f3a\"], [0.8888888888888888, \"#fdca26\"], [1.0, \"#f0f921\"]], \"sequentialminus\": [[0.0, \"#0d0887\"], [0.1111111111111111, \"#46039f\"], [0.2222222222222222, \"#7201a8\"], [0.3333333333333333, \"#9c179e\"], [0.4444444444444444, \"#bd3786\"], [0.5555555555555556, \"#d8576b\"], [0.6666666666666666, \"#ed7953\"], [0.7777777777777778, \"#fb9f3a\"], [0.8888888888888888, \"#fdca26\"], [1.0, \"#f0f921\"]]}, \"colorway\": [\"#636efa\", \"#EF553B\", \"#00cc96\", \"#ab63fa\", \"#FFA15A\", \"#19d3f3\", \"#FF6692\", \"#B6E880\", \"#FF97FF\", \"#FECB52\"], \"font\": {\"color\": \"#2a3f5f\"}, \"geo\": {\"bgcolor\": \"white\", \"lakecolor\": \"white\", \"landcolor\": \"#E5ECF6\", \"showlakes\": true, \"showland\": true, \"subunitcolor\": \"white\"}, \"hoverlabel\": {\"align\": \"left\"}, \"hovermode\": \"closest\", \"mapbox\": {\"style\": \"light\"}, \"paper_bgcolor\": \"white\", \"plot_bgcolor\": \"#E5ECF6\", \"polar\": {\"angularaxis\": {\"gridcolor\": \"white\", \"linecolor\": \"white\", \"ticks\": \"\"}, \"bgcolor\": \"#E5ECF6\", \"radialaxis\": {\"gridcolor\": \"white\", \"linecolor\": \"white\", \"ticks\": \"\"}}, \"scene\": {\"xaxis\": {\"backgroundcolor\": \"#E5ECF6\", \"gridcolor\": \"white\", \"gridwidth\": 2, \"linecolor\": \"white\", \"showbackground\": true, \"ticks\": \"\", \"zerolinecolor\": \"white\"}, \"yaxis\": {\"backgroundcolor\": \"#E5ECF6\", \"gridcolor\": \"white\", \"gridwidth\": 2, \"linecolor\": \"white\", \"showbackground\": true, \"ticks\": \"\", \"zerolinecolor\": \"white\"}, \"zaxis\": {\"backgroundcolor\": \"#E5ECF6\", \"gridcolor\": \"white\", \"gridwidth\": 2, \"linecolor\": \"white\", \"showbackground\": true, \"ticks\": \"\", \"zerolinecolor\": \"white\"}}, \"shapedefaults\": {\"line\": {\"color\": \"#2a3f5f\"}}, \"ternary\": {\"aaxis\": {\"gridcolor\": \"white\", \"linecolor\": \"white\", \"ticks\": \"\"}, \"baxis\": {\"gridcolor\": \"white\", \"linecolor\": \"white\", \"ticks\": \"\"}, \"bgcolor\": \"#E5ECF6\", \"caxis\": {\"gridcolor\": \"white\", \"linecolor\": \"white\", \"ticks\": \"\"}}, \"title\": {\"x\": 0.05}, \"xaxis\": {\"automargin\": true, \"gridcolor\": \"white\", \"linecolor\": \"white\", \"ticks\": \"\", \"title\": {\"standoff\": 15}, \"zerolinecolor\": \"white\", \"zerolinewidth\": 2}, \"yaxis\": {\"automargin\": true, \"gridcolor\": \"white\", \"linecolor\": \"white\", \"ticks\": \"\", \"title\": {\"standoff\": 15}, \"zerolinecolor\": \"white\", \"zerolinewidth\": 2}}}, \"title\": {\"text\": \"Earthquake location around the world in year 1965\"}},                        {\"responsive\": true}                    ).then(function(){\n",
       "                            \n",
       "var gd = document.getElementById('bfe99940-5af5-4e30-9732-b00dd9680caa');\n",
       "var x = new MutationObserver(function (mutations, observer) {{\n",
       "        var display = window.getComputedStyle(gd).display;\n",
       "        if (!display || display === 'none') {{\n",
       "            console.log([gd, 'removed!']);\n",
       "            Plotly.purge(gd);\n",
       "            observer.disconnect();\n",
       "        }}\n",
       "}});\n",
       "\n",
       "// Listen for the removal of the full notebook cells\n",
       "var notebookContainer = gd.closest('#notebook-container');\n",
       "if (notebookContainer) {{\n",
       "    x.observe(notebookContainer, {childList: true});\n",
       "}}\n",
       "\n",
       "// Listen for the clearing of the current output cell\n",
       "var outputEl = gd.closest('.output');\n",
       "if (outputEl) {{\n",
       "    x.observe(outputEl, {childList: true});\n",
       "}}\n",
       "\n",
       "                        })                };                });            </script>        </div>"
      ]
     },
     "metadata": {},
     "output_type": "display_data"
    }
   ],
   "source": [
    "plot_scatter_geo(df[df['year'] == 1965], '1965', None)"
   ]
  },
  {
   "cell_type": "markdown",
   "metadata": {},
   "source": [
    "Need to install the following-\n",
    "\n",
    "1. xvfb - `sudo apt-get install xvfb`\n",
    "2. orca-plotly - `conda install -c plotly plotly-orca`"
   ]
  },
  {
   "cell_type": "code",
   "execution_count": 43,
   "metadata": {},
   "outputs": [],
   "source": [
    "import plotly.io as pio\n",
    "pio.orca.config.use_xvfb = True"
   ]
  },
  {
   "cell_type": "code",
   "execution_count": 44,
   "metadata": {},
   "outputs": [],
   "source": [
    "pio.orca.config.save() "
   ]
  },
  {
   "cell_type": "code",
   "execution_count": 51,
   "metadata": {},
   "outputs": [],
   "source": [
    "import time\n",
    "fig = None\n",
    "for year in df['year'].unique():\n",
    "    fig = plot_scatter_geo(df[df['year'] == year], year, fig, plot=False)\n",
    "    fig.write_image(file=f'earthquakes_plots/{year}.jpg', format='jpg')"
   ]
  },
  {
   "cell_type": "markdown",
   "metadata": {},
   "source": [
    "The above code generates PNG images for each year. Next we have to combine these in a GIF. For that we will use [ImageMagick software](https://imagemagick.org/). Follow the instructions to install it on your computer. On ubuntu, you can use the instructions [here](https://www.tecmint.com/install-imagemagick-on-debian-ubuntu/). Then run the following commands."
   ]
  },
  {
   "cell_type": "markdown",
   "metadata": {},
   "source": [
    "Once you have ImageMagick installed on your system, navigate to the directory that has all the maps we just made (`earthquakes_plots` by default). Now we need to run one line of code to create our gif. Here’s what it does in a nutshell:\n",
    "* convert: take all these files and change them\n",
    "* delay 60: set the time that passes between each image before going to the next\n",
    "* loop 0: set an infinite loop\n",
    "* <insert all filenames that will be converted>\n",
    "* my_map.gif\n",
    "And here’s the code to use in Terminal:\n",
    "    ```\n",
    "    convert -delay 60 -loop 0 1965.jpg 1966.jpg 1967.jpg 1968.jpg 1969.jpg 1970.jpg 1971.jpg 1972.jpg 1973.jpg \\\n",
    "        1974.jpg 1975.jpg 1976.jpg 1977.jpg 1978.jpg 1979.jpg 1980.jpg 1981.jpg 1982.jpg 1983.jpg 1984.jpg 1985.jpg \\\n",
    "        1986.jpg 1987.jpg 1988.jpg 1989.jpg 1990.jpg 1991.jpg 1992.jpg 1993.jpg 1994.jpg 1995.jpg 1996.jpg 1997.jpg \\\n",
    "        1998.jpg 1999.jpg 2000.jpg 2001.jpg 2002.jpg 2003.jpg 2004.jpg 2005.jpg 2006.jpg 2007.jpg 2008.jpg 2009.jpg \\\n",
    "        2010.jpg 2011.jpg 2012.jpg 2013.jpg 2014.jpg 2015.jpg 2016.jpg timelapse.gif\n",
    "    ```"
   ]
  },
  {
   "cell_type": "markdown",
   "metadata": {},
   "source": [
    "You should now have a timelapse gif of earthquakes around the world from 1965 to 2016 in the timelapse.gif file"
   ]
  },
  {
   "cell_type": "code",
   "execution_count": null,
   "metadata": {},
   "outputs": [],
   "source": []
  }
 ],
 "metadata": {
  "kernelspec": {
   "display_name": "Python 3",
   "language": "python",
   "name": "python3"
  },
  "language_info": {
   "codemirror_mode": {
    "name": "ipython",
    "version": 3
   },
   "file_extension": ".py",
   "mimetype": "text/x-python",
   "name": "python",
   "nbconvert_exporter": "python",
   "pygments_lexer": "ipython3",
   "version": "3.8.5"
  }
 },
 "nbformat": 4,
 "nbformat_minor": 4
}
